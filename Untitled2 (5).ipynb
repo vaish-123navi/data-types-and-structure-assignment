{
 "cells": [
  {
   "cell_type": "raw",
   "id": "a9a8e638-451d-460d-acbd-2262518207c1",
   "metadata": {},
   "source": [
    "                                               DATA TYPES AND STRUCTURES "
   ]
  },
  {
   "cell_type": "raw",
   "id": "41b4640f-e57f-4529-b51e-ea295e866d12",
   "metadata": {},
   "source": [
    "1.What are data structures, and why are they important?\n",
    "\n",
    ">> Data structures are ways to store and organize data in a computer so we can use it easily and quickly.\n",
    "\n",
    "  they are important-\n",
    " * They help store data in a neat and organized way.\n",
    " * They make it faster to find, add, or remove data.\n",
    " * They are used in almost every computer program (apps, games, websites).\n",
    " * They help write better and more efficient code\n",
    "\n",
    "2. Explain the difference between mutable and immutable data types with examples.\n",
    "\n",
    ">> 1. Mutable Data Types- Can be changed after creation.And also you can modify, add, or remove elements without creating a new object.\n",
    "  Examples in Python: `list`, `dict` (dictionary) ,`set`\n",
    "  example\n",
    "  my_list = [1, 2, 3]\n",
    "  my_list[0] = 10       # Changing the first element\n",
    "  print(my_list)        # Output: [10, 2, 3]\n",
    "\n",
    "\n",
    " 2. Immutable Data Types- Cannot be changed after creation. If you want to change it, you must create a new object.\n",
    "   Examples in Python: `int`, `float`, `str` (string), `tuple`\n",
    "   example\n",
    "  my_str = \"hello\"\n",
    "  my_str[0] = \"H\"       # This will give an error\n",
    "  my_str = \"Hello\"      # You have to create a new string\n",
    "  print(my_str)         # Output: Hello\n",
    "\n",
    "3. What are the main differences between lists and tuples in Python ?\n",
    "\n",
    ">> Lists and tuples are both used to store collections of items, but they have key differences.\n",
    "  Lists are mutable, meaning you can change, add, or remove items after the list is created. \n",
    "  They are defined using square brackets `[]`.\n",
    "  Lists have more built-in methods.\n",
    "  -----------------------\n",
    "  Tuples, on the other hand, are immutable, so once they are created, their content cannot be changed.\n",
    "  Tuples are defined using parentheses `()`. Because of their immutability, tuples are generally faster and use less memory than lists.\n",
    "  Tuples are often used when you want to ensure the data stays constant.\n",
    "\n",
    "4. Describe how dictionaries store data.\n",
    "\n",
    ">> A dictionary stores data using pairs – one key and one value. The key is like a name or label, and the value is the information. You can use the      key   to get the value.\n",
    "  For example:\n",
    "  student = {\"name\": \"Ali\", \"age\": 20}\n",
    "  Here, `\"name\"` is the key and `\"Ali\"` is the value. `\"age\"` is the key and `20` is the value. You can use the key to find or change the value          easily. Dictionaries use curly brackets `{}` and are very useful when you want to store related information together.\n",
    "\n",
    "5.Why might you use a set instead of a list in Python?\n",
    "\n",
    ">> We might use a set instead of a list in Python when you want to:\n",
    "\n",
    "1.Remove duplicates – Sets automatically keep only unique items.\n",
    "\n",
    "2.Check for items quickly – Sets are faster than lists when checking if an item is present.\n",
    "\n",
    "3.Do set operations – Like finding common or different items between two groups using union, intersection, etc.\n",
    "\n",
    "6. What is a string in Python, and how is it different from a list?\n",
    "\n",
    ">> A string is a sequence of characters.\n",
    "  It is written inside single, double, or triple quotes.\n",
    "  Immutable: Once created, you cannot change individual characters in a string.\n",
    "  Example:\n",
    "  text = \"hello\"\n",
    "  print(text[1])       # Output: 'e'\n",
    "  text[1] = \"a\"         ( This will cause an error (strings are immutable))\n",
    " \n",
    "  A list is a collection of items (can be of any data type: numbers, strings, even other lists).\n",
    "  It is written inside square brackets [].\n",
    "  Mutable: You can change items in a list.\n",
    "  Example:\n",
    "  my_list = [\"h\", \"e\", \"l\", \"l\", \"o\"]\n",
    "  print(my_list[1])            # Output: 'e'\n",
    "  my_list[1] = \"a\"             # This works (lists are mutable)\n",
    "  print(my_list)               # Output: ['h', 'a', 'l', 'l', 'o']\n",
    "\n",
    "7. How do tuples ensure data integrity in Python?\n",
    "\n",
    ">> Tuples ensure data integrity in Python because they are immutable — once created, their values cannot be changed, added, or removed.\n",
    "  example:\n",
    "  person = (\"John\", 25, \"USA\")        # This is a tuple\n",
    "  person[0] = \"Mike\"                  # This will cause an error (tuples are immutable)\n",
    "  So, if you use a tuple, the data is protected from unwanted changes, which helps maintain its integrity.\n",
    "\n",
    "8. What is a hash table, and how does it relate to dictionaries in Python?\n",
    "\n",
    ">> A hash table is a data structure that stores data in key-value pairs and uses a hash function to quickly find values based on their keys.\n",
    "  In Python, a dictionary (dict) is built using a hash table.\n",
    "  You store data as: key: value\n",
    "  Python uses a hash function to turn the key into a number (called a hash) and uses it to find the value quickly.\n",
    "\n",
    "9.Can lists contain different data types in Python?\n",
    "\n",
    ">> Yes, lists can contain different data types in Python.\n",
    "  Example:\n",
    "  my_list = [10, \"hello\", 3.14, True]\n",
    "  This list has:\n",
    "  An integer (10)\n",
    "  A string (\"hello\")\n",
    "  A float (3.14)\n",
    "  A boolean (True)\n",
    "  Python lists are flexible — they can store multiple data types in one list\n",
    "\n",
    "10.Explain why strings are immutable in Python?\n",
    "\n",
    ">> Strings Are Immutable in Python-\n",
    "  1.Memory Efficient - Python uses string interning (reusing strings in memory).\n",
    "                      Immutability ensures shared strings don’t accidentally get changed.\n",
    "  2.Safe and Secure - Immutable strings prevent accidental changes, making code more stable and reliable.\n",
    "  3.Hashability - Strings are used as keys in dictionaries.\n",
    "                  To be a key, the object must be hashable, which requires immutability.\n",
    "  4.Simpler Code - Immutable strings make programs easier to understand and debug since their values don’t change unexpectedly.\n",
    "  \n",
    "   Example:\n",
    "   text = \"hello\"\n",
    "   text[0] = \"y\"        # Error: strings can't be changed\n",
    "   You must create a new string instead.\n",
    "\n",
    "11.What advantages do dictionaries offer over lists for certain tasks?\n",
    "\n",
    ">> Dictionaries offer these advantages over lists for certain tasks:\n",
    "  \n",
    " i)Faster Lookup – Accessing values by key is much quicker than searching through a list.\n",
    "\n",
    " ii)Key-Value Pairs – Better for storing related data (like a name and age).\n",
    "\n",
    " iii)Clearer Code – Using keys makes the code more readable and meaningful.\n",
    "\n",
    " iv)No Need for Indexing – You don’t need to remember positions; just use keys.\n",
    "\n",
    "12. Describe a scenario where using a tuple would be preferable over a list.\n",
    "\n",
    ">> Storing RGB color values:\n",
    "  You want to store a fixed color code, like red, in a tuple:\n",
    "  color = (255, 0, 0)  # (Red, Green, Blue)\n",
    "  Why Tuple is Better:\n",
    "  The color values should not change.\n",
    "  It’s faster and more memory-efficient than a list.\n",
    " \n",
    "  (Use a tuple when you have fixed data, like color codes, that shouldn’t be altered.)\n",
    "\n",
    "13. How do sets handle duplicate values in Python?\n",
    "\n",
    ">> Sets automatically remove duplicates.\n",
    "  If you try to add duplicate values to a set, only one instance of that value will be stored.\n",
    "  Example:\n",
    "  my_set = {1, 2, 3, 3, 4, 5}\n",
    "  print(my_set)  # Output: {1, 2, 3, 4, 5}\n",
    "  In this example, the duplicate 3 is removed automatically, and only one 3 remains in the set.\n",
    "  *Sets ensure no duplicates by automatically removing any repeated values when you add them.\n",
    "\n",
    "14. How does the “in” keyword work differently for lists and dictionaries?\n",
    "\n",
    ">> For Lists:\n",
    "  The in keyword checks if a value exists in the list.\n",
    "\n",
    "  my_list = [1, 2, 3, 4]\n",
    "  print(3 in my_list)      # Output: True\n",
    "  print(5 in my_list)      # Output: False\n",
    "  Here, it checks if 3 or 5 is an element in the list.\n",
    "\n",
    "  For Dictionaries:\n",
    "  The in keyword checks if a key exists in the dictionary, not the value.\n",
    "\n",
    "  my_dict = {\"a\": 1, \"b\": 2, \"c\": 3}\n",
    "  print(\"a\" in my_dict)  # Output: True\n",
    "  print(1 in my_dict)    # Output: False\n",
    "  Here, it checks if \"a\" is a key in the dictionary, not if 1 is a value.\n",
    "\n",
    "15.Can you modify the elements of a tuple? Explain why or why not.\n",
    "\n",
    ">> No, you cannot modify the elements of a tuple in Python.\n",
    "\n",
    "  Tuples are immutable: Once a tuple is created, its elements cannot be changed, added, or removed.\n",
    "\n",
    "  This immutability is by design to ensure that data stored in a tuple remains constant throughout the program.\n",
    "  Example:\n",
    "  my_tuple = (1, 2, 3)\n",
    "  my_tuple[0] = 5          # Error: 'tuple' object does not support item assignment\n",
    "  This will give an error because tuples cannot be changed after they are created.\n",
    "\n",
    "16.What is a nested dictionary, and give an example of its use case?\n",
    "\n",
    ">> A nested dictionary is a dictionary inside another dictionary. In simple words, it means each key in the main dictionary can have a value that is     another dictionary.\n",
    "  Example:\n",
    "  students = { \"101\": {\"name\": \"Alice\", \"age\": 20, \"grade\": \"A\"},\n",
    "               \"102\": {\"name\": \"Bob\", \"age\": 21, \"grade\": \"B\"}\n",
    "               \"103\": {\"name\": \"Charlie\", \"age\": 22, \"grade\": \"A\"},}\n",
    "  The main dictionary students has student IDs as keys (\"101\", \"102\", etc.).\n",
    "  The value of each student ID is another dictionary that stores details like name, age, and grade.\n",
    "\n",
    "17. Describe the time complexity of accessing elements in a dictionary.\n",
    "\n",
    ">>In Python, dictionaries are implemented using hash tables, which allow for very fast access to elements.\n",
    "  Time Complexity\n",
    "  Average Case:\n",
    "  O(1) → Constant time\n",
    "   This means it takes the same amount of time to access any element, no matter how big the dictionary is.\n",
    "  Worst Case:\n",
    "  O(n) → Linear time\n",
    "  This can happen rarely, if there are many hash collisions (multiple keys with the same hash), but Python handles this very efficiently.\n",
    "\n",
    "18.In what situations are lists preferred over dictionaries?\n",
    "\n",
    ">> While both lists and dictionaries are used to store collections of data, there are specific situations where lists are the better choice.\n",
    "   1. Order Matters - Use a list when the order of items is important.\n",
    "   fruits = [\"apple\", \"banana\", \"cherry\"]\n",
    "   You can access elements by position: fruits[0] gives \"apple\".\n",
    "\n",
    "  2. Data Doesn’t Need Labels - Use a list when you just need to store a group of items without names/keys.\n",
    "    Example: List of student marks\n",
    "    marks = [80, 75, 90]\n",
    "  3. You Want to Loop Through Items in Order - Lists make it easy to go through items in a specific sequence.\n",
    "    for fruit in fruits:\n",
    "    print(fruit)\n",
    "  4. Simple Collections - If the data is simple (like a group of numbers, names, or values), a list is enough .\n",
    "    You don’t need the extra structure of keys in a dictionary.\n",
    "\n",
    "19.Why are dictionaries considered unordered, and how does that affect data retrieval?\n",
    "\n",
    ">> Traditionally in Python (before version 3.7), dictionaries were unordered, meaning the items had no fixed order — you couldn't rely on the items to    come out in the same order you added them.\n",
    "   It Affects Data Retrieval by-\n",
    "  1. Fast Lookup by Key (O(1)):\n",
    "   You can quickly get a value if you know the key:\n",
    "   person = {\"name\": \"Alice\", \"age\": 25}\n",
    "   print(person[\"name\"])        # Output: Alice\n",
    "  2. Cannot Rely on Index:\n",
    "   You cannot do something like:\n",
    "   person[0]                    # Error: Indexing not allowed\n",
    "  3. Don't Depend on Key Order (in older versions):\n",
    "   If you're using Python 3.6 or earlier, the order of keys might change:\n",
    "   for key in person:\n",
    "   print(key)                  # Order not guaranteed in old versions\n",
    "\n",
    "20. Explain the difference between a list and a dictionary in terms of data retrieval.\n",
    "\n",
    ">> Difference Between List and Dictionary (Data Retrieval) – Key Points\n",
    "  1. Access Method\n",
    "  List: Access data using index (position).\n",
    "  Example: my_list[0]\n",
    "  Dictionary: Access data using key (name/label).\n",
    "  Example: my_dict[\"name\"]\n",
    "\n",
    "  2. Data Lookup Type\n",
    "  List: Positional lookup.\n",
    "  Dictionary: Key-based lookup.\n",
    "\n",
    "  3. Retrieval Speed\n",
    "  List:Fast if using index →  O(1)\n",
    "       Slow if searching by value →  O(n)\n",
    "  Dictionary:Fast lookup by key →  O(1)\n",
    "\n",
    "  4. Use Case\n",
    "  List: Best for ordered collections (like a list of names or marks).\n",
    "  Dictionary: Best for structured data (like name, age, ID of a person).\n",
    "\n",
    "  5. Syntax Example\n",
    "  # List\n",
    "  fruits = [\"apple\", \"banana\", \"cherry\"]\n",
    "  print(fruits[1])  # Output: banana\n",
    "\n",
    "  # Dictionary\n",
    "  person = {\"name\": \"Alice\", \"age\": 25}\n",
    "  print(person[\"age\"])  # Output: 25\n",
    "  \n",
    "  6. Key vs Index\n",
    "  List: No keys, only index numbers (0, 1, 2…)\n",
    "  Dictionary: Uses keys (like \"name\", \"age\")\n",
    "\n",
    "\n",
    "\n",
    "\n",
    "\n",
    "\n",
    "\n",
    "\n",
    "\n",
    "\n",
    "\n",
    "\n",
    "\n",
    "\n",
    "\n",
    "\n",
    "\n",
    "\n"
   ]
  },
  {
   "cell_type": "code",
   "execution_count": 6,
   "id": "587529f1-604a-40f7-a5bb-66323976a1ed",
   "metadata": {},
   "outputs": [
    {
     "name": "stdout",
     "output_type": "stream",
     "text": [
      "My name is :  vaishnavi gupta \n"
     ]
    }
   ],
   "source": [
    "#Write a code to create a string with your name and print it.\n",
    "my_name = \" vaishnavi gupta \"\n",
    "print (\"My name is :\" , my_name)"
   ]
  },
  {
   "cell_type": "code",
   "execution_count": 7,
   "id": "1a12f305-dd5f-4e24-8970-d3e61f15a36c",
   "metadata": {},
   "outputs": [
    {
     "name": "stdout",
     "output_type": "stream",
     "text": [
      " length of the string : 11\n"
     ]
    }
   ],
   "source": [
    "#Write a code to find the length of the string \"Hello World\".\n",
    "text = \"hello world\"\n",
    "print (\" length of the string :\", len(text))"
   ]
  },
  {
   "cell_type": "code",
   "execution_count": 8,
   "id": "28765f80-336a-4eca-9fc7-7b7fd950f502",
   "metadata": {},
   "outputs": [
    {
     "name": "stdout",
     "output_type": "stream",
     "text": [
      "First 3 characters: Pyt\n"
     ]
    }
   ],
   "source": [
    "# Write a code to slice the first 3 characters from the string \"Python Programming\".\n",
    "text = \"Python Programming\"\n",
    "sliced_text = text[:3]\n",
    "print(\"First 3 characters:\", sliced_text)"
   ]
  },
  {
   "cell_type": "code",
   "execution_count": 9,
   "id": "25516cb3-230e-4061-9166-b010345c7665",
   "metadata": {},
   "outputs": [
    {
     "name": "stdout",
     "output_type": "stream",
     "text": [
      "Uppercase: HELLO\n"
     ]
    }
   ],
   "source": [
    "#Write a code to convert the string \"hello\" to uppercase.\n",
    "text = \"hello\"\n",
    "upper_text = text.upper()\n",
    "print(\"Uppercase:\", upper_text)"
   ]
  },
  {
   "cell_type": "code",
   "execution_count": 10,
   "id": "abf8fc98-c625-4f9f-ab45-b105b4b07371",
   "metadata": {},
   "outputs": [
    {
     "name": "stdout",
     "output_type": "stream",
     "text": [
      "Updated string: I like orange\n"
     ]
    }
   ],
   "source": [
    "# Write a code to replace the word \"apple\" with \"orange\" in the string \"I like apple\".\n",
    "text = \"I like apple\"\n",
    "new_text = text.replace(\"apple\", \"orange\")\n",
    "print(\"Updated string:\", new_text)"
   ]
  },
  {
   "cell_type": "code",
   "execution_count": 11,
   "id": "e3c0896a-c778-46a8-a909-879e93b0088e",
   "metadata": {},
   "outputs": [
    {
     "name": "stdout",
     "output_type": "stream",
     "text": [
      "List of numbers: [1, 2, 3, 4, 5]\n"
     ]
    }
   ],
   "source": [
    "#Write a code to create a list with numbers 1 to 5 and print it.\n",
    "numbers = [1, 2, 3, 4, 5]\n",
    "print(\"List of numbers:\", numbers)"
   ]
  },
  {
   "cell_type": "code",
   "execution_count": 12,
   "id": "65c5bb0f-97e7-4d5d-b4cc-7af37e025dd9",
   "metadata": {},
   "outputs": [
    {
     "name": "stdout",
     "output_type": "stream",
     "text": [
      "Updated list: [1, 2, 3, 4, 10]\n"
     ]
    }
   ],
   "source": [
    "# Write a code to append the number 10 to the list [1, 2, 3, 4].\n",
    "numbers = [1, 2, 3, 4]\n",
    "numbers.append(10)\n",
    "print(\"Updated list:\", numbers)"
   ]
  },
  {
   "cell_type": "code",
   "execution_count": 13,
   "id": "c9cd28b6-8f8c-454b-b108-ca2be9c0beca",
   "metadata": {},
   "outputs": [
    {
     "name": "stdout",
     "output_type": "stream",
     "text": [
      "Updated list: [1, 2, 4, 5]\n"
     ]
    }
   ],
   "source": [
    "# Write a code to remove the number 3 from the list [1, 2, 3, 4, 5]\n",
    "numbers = [1, 2, 3, 4, 5]\n",
    "numbers.remove(3)\n",
    "print(\"Updated list:\", numbers)"
   ]
  },
  {
   "cell_type": "code",
   "execution_count": 14,
   "id": "7fd4ff04-3588-4542-8cb0-33aa7a1c68ca",
   "metadata": {},
   "outputs": [
    {
     "name": "stdout",
     "output_type": "stream",
     "text": [
      "Second element: b\n"
     ]
    }
   ],
   "source": [
    "#Write a code to access the second element in the list ['a', 'b', 'c', 'd'].\n",
    "letters = ['a', 'b', 'c', 'd']\n",
    "print(\"Second element:\", letters[1])"
   ]
  },
  {
   "cell_type": "code",
   "execution_count": 15,
   "id": "d26cd4f8-4dbe-49fb-a368-fd04ab77ca93",
   "metadata": {},
   "outputs": [
    {
     "name": "stdout",
     "output_type": "stream",
     "text": [
      "[50, 40, 30, 20, 10]\n"
     ]
    }
   ],
   "source": [
    "# Write a code to reverse the list [10, 20, 30, 40, 50]\n",
    "numbers = [10, 20, 30, 40, 50]\n",
    "numbers.reverse()\n",
    "print(numbers)"
   ]
  },
  {
   "cell_type": "code",
   "execution_count": 16,
   "id": "032f32c1-877b-4500-92ee-7cbc86cd592c",
   "metadata": {},
   "outputs": [
    {
     "name": "stdout",
     "output_type": "stream",
     "text": [
      "(100, 200, 300)\n"
     ]
    }
   ],
   "source": [
    "#Write a code to create a tuple with the elements 100, 200, 300 and print it.\n",
    "my_tuple = (100, 200, 300)\n",
    "print(my_tuple)"
   ]
  },
  {
   "cell_type": "code",
   "execution_count": 20,
   "id": "d5732daa-cf4f-472c-924f-e927368706c3",
   "metadata": {},
   "outputs": [
    {
     "name": "stdout",
     "output_type": "stream",
     "text": [
      "Second-to-last element: blue\n"
     ]
    }
   ],
   "source": [
    "#Write a code to access the second-to-last element of the tuple ('red', 'green', 'blue', 'yellow').\n",
    "colors = ('red', 'green', 'blue', 'yellow')\n",
    "second_to_last = colors[-2]\n",
    "print(\"Second-to-last element:\", second_to_last)"
   ]
  },
  {
   "cell_type": "code",
   "execution_count": 21,
   "id": "76ba042a-9a0b-42ef-a631-fe253270666f",
   "metadata": {},
   "outputs": [
    {
     "name": "stdout",
     "output_type": "stream",
     "text": [
      "Minimum number: 5\n"
     ]
    }
   ],
   "source": [
    "# Write a code to find the minimum number in the tuple (10, 20, 5, 15)\n",
    "numbers = (10, 20, 5, 15)\n",
    "min_number = min(numbers)\n",
    "print(\"Minimum number:\", min_number)"
   ]
  },
  {
   "cell_type": "code",
   "execution_count": 22,
   "id": "2a9dc79a-8deb-4579-aaf9-b2dad396c60a",
   "metadata": {},
   "outputs": [
    {
     "name": "stdout",
     "output_type": "stream",
     "text": [
      "Index of 'cat': 1\n"
     ]
    }
   ],
   "source": [
    "# Write a code to find the index of the element \"cat\" in the tuple ('dog', 'cat', 'rabbit').\n",
    "animals = ('dog', 'cat', 'rabbit')\n",
    "index_cat = animals.index('cat')\n",
    "print(\"Index of 'cat':\", index_cat)"
   ]
  },
  {
   "cell_type": "code",
   "execution_count": 23,
   "id": "e020bb87-74cc-435d-8841-390c66c8d57d",
   "metadata": {},
   "outputs": [
    {
     "name": "stdout",
     "output_type": "stream",
     "text": [
      "Kiwi is NOT in the tuple.\n"
     ]
    }
   ],
   "source": [
    "#Write a code to create a tuple containing three different fruits and check if \"kiwi\" is in it.\n",
    "fruits = (\"apple\", \"banana\", \"orange\")\n",
    "if \"kiwi\" in fruits:\n",
    "    print(\"Kiwi is in the tuple.\")\n",
    "else:\n",
    "    print(\"Kiwi is NOT in the tuple.\")"
   ]
  },
  {
   "cell_type": "code",
   "execution_count": 24,
   "id": "ef093401-4416-4268-8d1f-fab775bb074f",
   "metadata": {},
   "outputs": [
    {
     "name": "stdout",
     "output_type": "stream",
     "text": [
      "{'c', 'b', 'a'}\n"
     ]
    }
   ],
   "source": [
    "#Write a code to create a set with the elements 'a', 'b', 'c' and print it.\n",
    "my_set = {'a', 'b', 'c'}\n",
    "print(my_set)"
   ]
  },
  {
   "cell_type": "code",
   "execution_count": 25,
   "id": "bd51e29d-530a-402e-80f8-3c4b555360d0",
   "metadata": {},
   "outputs": [
    {
     "name": "stdout",
     "output_type": "stream",
     "text": [
      "After clearing: set()\n"
     ]
    }
   ],
   "source": [
    "#Write a code to clear all elements from the set {1, 2, 3, 4, 5}.\n",
    "numbers = {1, 2, 3, 4, 5}\n",
    "numbers.clear()\n",
    "print(\"After clearing:\", numbers)"
   ]
  },
  {
   "cell_type": "code",
   "execution_count": 26,
   "id": "2bcb7ac4-aa46-432c-8cea-98af382ab2bb",
   "metadata": {},
   "outputs": [
    {
     "name": "stdout",
     "output_type": "stream",
     "text": [
      "Updated set: {1, 2, 3}\n"
     ]
    }
   ],
   "source": [
    "#Write a code to remove the element 4 from the set {1, 2, 3, 4}.\n",
    "numbers = {1, 2, 3, 4}\n",
    "numbers.remove(4)\n",
    "print(\"Updated set:\", numbers)"
   ]
  },
  {
   "cell_type": "code",
   "execution_count": 28,
   "id": "1f0bf4d7-7581-47c1-b8ac-cab606b5ca4f",
   "metadata": {},
   "outputs": [
    {
     "name": "stdout",
     "output_type": "stream",
     "text": [
      "Union of sets: {1, 2, 3, 4, 5}\n"
     ]
    }
   ],
   "source": [
    "# Write a code to find the union of two sets {1, 2, 3} and {3, 4, 5}.\n",
    "set1 = {1, 2, 3}\n",
    "set2 = {3, 4, 5}\n",
    "union_set = set1.union(set2)\n",
    "print(\"Union of sets:\", union_set)"
   ]
  },
  {
   "cell_type": "code",
   "execution_count": 29,
   "id": "c83611d4-1069-4906-bdde-4d578b4c45b4",
   "metadata": {},
   "outputs": [
    {
     "name": "stdout",
     "output_type": "stream",
     "text": [
      "Intersection of sets: {2, 3}\n"
     ]
    }
   ],
   "source": [
    "# Write a code to find the intersection of two sets {1, 2, 3} and {2, 3, 4}\n",
    "set1 = {1, 2, 3}\n",
    "set2 = {2, 3, 4}\n",
    "intersection_set = set1.intersection(set2)\n",
    "print(\"Intersection of sets:\", intersection_set)"
   ]
  },
  {
   "cell_type": "code",
   "execution_count": 30,
   "id": "7314b8d7-a267-4b3c-9d19-17cd836b2e95",
   "metadata": {},
   "outputs": [
    {
     "name": "stdout",
     "output_type": "stream",
     "text": [
      "{'name': 'Alice', 'age': 25, 'city': 'New York'}\n"
     ]
    }
   ],
   "source": [
    "# Write a code to create a dictionary with the keys \"name\", \"age\", and \"city\", and print it.\n",
    "person = { \"name\": \"Alice\", \"age\": 25, \"city\": \"New York\"}\n",
    "print(person)"
   ]
  },
  {
   "cell_type": "code",
   "execution_count": 32,
   "id": "93394766-32e3-455c-a45f-d15d7e10513f",
   "metadata": {},
   "outputs": [
    {
     "name": "stdout",
     "output_type": "stream",
     "text": [
      "{'name': 'John', 'age': 25, 'country': 'USA'}\n"
     ]
    }
   ],
   "source": [
    "# Write a code to add a new key-value pair \"country\": \"USA\" to the dictionary {'name': 'John', 'age': 25}.\n",
    "person = {'name': 'John', 'age': 25}\n",
    "person['country'] = 'USA'\n",
    "print(person)"
   ]
  },
  {
   "cell_type": "code",
   "execution_count": 33,
   "id": "1114e8c6-1659-4ad1-b9d3-7798f5ce6450",
   "metadata": {},
   "outputs": [
    {
     "name": "stdout",
     "output_type": "stream",
     "text": [
      "Name: Alice\n"
     ]
    }
   ],
   "source": [
    "# Write a code to access the value associated with the key \"name\" in the dictionary {'name': 'Alice', 'age': 30}.\n",
    "person = {'name': 'Alice', 'age': 30}\n",
    "name_value = person['name']\n",
    "print(\"Name:\", name_value)"
   ]
  },
  {
   "cell_type": "code",
   "execution_count": 34,
   "id": "467c3e64-d8a4-477a-87ff-7dfa35514765",
   "metadata": {},
   "outputs": [
    {
     "name": "stdout",
     "output_type": "stream",
     "text": [
      "{'name': 'Bob', 'city': 'New York'}\n"
     ]
    }
   ],
   "source": [
    "# Write a code to remove the key \"age\" from the dictionary {'name': 'Bob', 'age': 22, 'city': 'New York'}.\n",
    "person = {'name': 'Bob', 'age': 22, 'city': 'New York'}\n",
    "del person['age']\n",
    "print(person)"
   ]
  },
  {
   "cell_type": "code",
   "execution_count": 35,
   "id": "548a1989-1caa-4693-bbb0-fe0dccf87779",
   "metadata": {},
   "outputs": [
    {
     "name": "stdout",
     "output_type": "stream",
     "text": [
      "Key 'city' exists in the dictionary.\n"
     ]
    }
   ],
   "source": [
    "# Write a code to check if the key \"city\" exists in the dictionary {'name': 'Alice', 'city': 'Paris'}\n",
    "person = {'name': 'Alice', 'city': 'Paris'}\n",
    "if 'city' in person:\n",
    "    print(\"Key 'city' exists in the dictionary.\")\n",
    "else:\n",
    "    print(\"Key 'city' does not exist.\")"
   ]
  },
  {
   "cell_type": "code",
   "execution_count": 36,
   "id": "a1920048-4e41-4ecb-9a0b-815e748b84cb",
   "metadata": {},
   "outputs": [
    {
     "name": "stdout",
     "output_type": "stream",
     "text": [
      "List: [1, 2, 3, 4, 5]\n",
      "Tuple: ('apple', 'banana', 'cherry')\n",
      "Dictionary: {'name': 'John', 'age': 30, 'city': 'London'}\n"
     ]
    }
   ],
   "source": [
    "# Write a code to create a list, a tuple, and a dictionary, and print them all.\n",
    "my_list = [1, 2, 3, 4, 5]\n",
    "my_tuple = ('apple', 'banana', 'cherry')\n",
    "my_dict = {'name': 'John', 'age': 30, 'city': 'London'}\n",
    "print(\"List:\", my_list)\n",
    "print(\"Tuple:\", my_tuple)\n",
    "print(\"Dictionary:\", my_dict)"
   ]
  },
  {
   "cell_type": "code",
   "execution_count": 37,
   "id": "58e5d4a6-7842-449b-91b9-4108f4aa8abb",
   "metadata": {},
   "outputs": [
    {
     "name": "stdout",
     "output_type": "stream",
     "text": [
      "Sorted random numbers: [43, 68, 85, 95, 98]\n"
     ]
    }
   ],
   "source": [
    "# Write a code to create a list of 5 random numbers between 1 and 100, sort it in ascending order, and print the\n",
    "#result.(replaced)\n",
    "import random\n",
    "random_numbers = [random.randint(1, 100) for _ in range(5)]\n",
    "random_numbers.sort()\n",
    "print(\"Sorted random numbers:\", random_numbers)"
   ]
  },
  {
   "cell_type": "code",
   "execution_count": 38,
   "id": "6c6ab921-fe46-4e9c-997e-8533297b425a",
   "metadata": {},
   "outputs": [
    {
     "name": "stdout",
     "output_type": "stream",
     "text": [
      "Element at third index: mango\n"
     ]
    }
   ],
   "source": [
    "#Write a code to create a list with strings and print the element at the third index.\n",
    "fruits = [\"apple\", \"banana\", \"cherry\", \"mango\", \"orange\"]\n",
    "print(\"Element at third index:\", fruits[3])"
   ]
  },
  {
   "cell_type": "code",
   "execution_count": 39,
   "id": "30d8b8bd-8300-4543-82c0-a7f7b12ab80d",
   "metadata": {},
   "outputs": [
    {
     "name": "stdout",
     "output_type": "stream",
     "text": [
      "Combined dictionary: {'a': 1, 'b': 2, 'c': 3, 'd': 4}\n"
     ]
    }
   ],
   "source": [
    "#Write a code to combine two dictionaries into one and print the result.\n",
    "dict1 = {'a': 1, 'b': 2}\n",
    "dict2 = {'c': 3, 'd': 4}\n",
    "combined_dict = {**dict1, **dict2}\n",
    "print(\"Combined dictionary:\", combined_dict)"
   ]
  },
  {
   "cell_type": "code",
   "execution_count": 40,
   "id": "c190da94-f416-4361-9075-f6037c0d9655",
   "metadata": {},
   "outputs": [
    {
     "name": "stdout",
     "output_type": "stream",
     "text": [
      "Set: {'banana', 'apple', 'orange'}\n"
     ]
    }
   ],
   "source": [
    "#. Write a code to convert a list of strings into a set.\n",
    "string_list = [\"apple\", \"banana\", \"apple\", \"orange\", \"banana\"]\n",
    "string_set = set(string_list)\n",
    "print(\"Set:\", string_set)"
   ]
  }
 ],
 "metadata": {
  "kernelspec": {
   "display_name": "Python 3 (ipykernel)",
   "language": "python",
   "name": "python3"
  },
  "language_info": {
   "codemirror_mode": {
    "name": "ipython",
    "version": 3
   },
   "file_extension": ".py",
   "mimetype": "text/x-python",
   "name": "python",
   "nbconvert_exporter": "python",
   "pygments_lexer": "ipython3",
   "version": "3.13.3"
  }
 },
 "nbformat": 4,
 "nbformat_minor": 5
}
