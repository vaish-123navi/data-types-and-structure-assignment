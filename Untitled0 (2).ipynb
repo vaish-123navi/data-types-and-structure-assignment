{
  "nbformat": 4,
  "nbformat_minor": 0,
  "metadata": {
    "colab": {
      "provenance": []
    },
    "kernelspec": {
      "name": "python3",
      "display_name": "Python 3"
    },
    "language_info": {
      "name": "python"
    }
  },
  "cells": [
    {
      "cell_type": "markdown",
      "source": [
        "                                                OOPS ASSIGNMENT"
      ],
      "metadata": {
        "id": "ZZXt1Gi82CR5"
      }
    },
    {
      "cell_type": "markdown",
      "source": [
        "1. What is Object-Oriented Programming (OOP)?\n",
        "\n",
        ">>OOP is a programming style where we group data and the actions that can be done on that data into one unit called an object.\n",
        "\n",
        "2. What is a class in OOP?\n",
        "\n",
        ">>A class in Object-Oriented Programming (OOP) is like a blueprint or template used to create objects.\n",
        "\n",
        "Think of a class as a design or plan, and the objects are the actual things made from that plan.\n",
        "\n",
        "3.What is an object in OOP?\n",
        "\n",
        ">>An object is a real-world thing created from a class in Object-Oriented Programming (OOP).\n",
        "It is something that actually exists in the program and can do things or have data.\n",
        "\n",
        "4.What is the difference between abstraction and encapsulation?\n",
        "\n",
        ">> Abstraction:\n",
        "a)Hides unnecessary details and shows only the important features of an object.\n",
        "\n",
        "b)Focuses on what an object does, not how it does it.\n",
        "\n",
        "c)Helps to reduce complexity in programming.\n",
        "\n",
        "d)Achieved using abstract classes and interfaces (in languages like Java, C++).\n",
        "\n",
        "Example: You can drive a car without knowing how the engine works.\n",
        "\n",
        " Encapsulation:\n",
        "a)Hides the internal data of an object and protects it from direct access.\n",
        "\n",
        "b)Focuses on how data is stored and accessed.\n",
        "\n",
        "c)Helps to protect data and make the code more secure.\n",
        "\n",
        "d)Achieved using access modifiers like private, public, and protected.\n",
        "\n",
        "Example: You cannot access a car’s engine directly; you use controls like the accelerator or brake.\n",
        "\n",
        "5. What are dunder methods in Python?\n",
        "\n",
        ">>Dunder methods (short for \"double underscore\" methods) are special functions in Python that start and end with two underscores, like __init__, __str__, etc.\n",
        "\n",
        "They are used to make objects behave in special ways, like when you:\n",
        "\n",
        "Create an object → __init__ runs automatically\n",
        "\n",
        "Print an object → __str__ tells Python what to show\n",
        "\n",
        "Add two objects → __add__ controls how they’re added\n",
        "\n",
        "Compare objects → __eq__ decides what == means\n",
        "\n"
      ],
      "metadata": {
        "id": "XTlrS_q42XUA"
      }
    },
    {
      "cell_type": "markdown",
      "source": [
        "6. Explain the concept of inheritance in OOP.\n",
        "\n",
        ">>Inheritance is a feature in OOP that allows a new class to reuse the properties and methods of an existing class.\n",
        "It helps in code reusability, organization, and makes programs easier to maintain.\n",
        "\n",
        "7. What is polymorphism in OOP?\n",
        "\n",
        ">>Polymorphism means \"many forms\".\n",
        "In Object-Oriented Programming (OOP), polymorphism allows one function, method, or operator to behave differently depending on the object that is using it.\n",
        "\n",
        "8.How is encapsulation achieved in Python?\n",
        "\n",
        ">>Encapsulation in Python is done by making variables private with __ and using getter/setter methods to control access to those variables. This keeps the data safe and hidden inside the object.\n",
        "\n",
        "9.What is a constructor in Python?\n",
        "\n",
        ">>A constructor is a special method in a Python class that runs automatically when you create (or \"instantiate\") a new object from that class.\n",
        "\n",
        "Its main job is to initialize the object’s attributes (give initial values to the object’s data).\n",
        "\n",
        "10.What are class and static methods in Python?\n",
        "\n",
        ">>1. Class Methods\n",
        "A class method works with the class itself, not the individual object.\n",
        "\n",
        "It can access or modify class variables (shared by all objects).\n",
        "\n",
        "You create a class method using the @classmethod decorator.\n",
        "\n",
        "The first parameter is always cls, which refers to the class.\n",
        "2. Static Methods\n",
        "A static method does not work with the class or instance directly.\n",
        "\n",
        "It behaves like a regular function but lives inside the class for organization.\n",
        "\n",
        "Use the @staticmethod decorator.\n",
        "\n",
        "It does not take self or cls as the first argument.\n",
        "\n",
        "11. What is method overloading in Python?\n",
        "\n",
        ">>Method overloading means having multiple methods with the same name but different numbers or types of parameters in the same class. It lets you do different things depending on how many or what kind of inputs you give.\n",
        "\n",
        "12.What is method overriding in OOP?\n",
        "\n",
        ">>Method overriding in Object-Oriented Programming (OOP) is when a child class provides its own version of a method that already exists in its parent class. This means the child class replaces or changes how that method works for its own objects.\n",
        "\n",
        "For example, if a parent class has a method called speak(), and the child class defines its own speak() method, the child’s method will be used when called on a child object. This allows the child class to customize or extend the behavior of methods inherited from the parent class."
      ],
      "metadata": {
        "id": "wEmecaD36QhX"
      }
    },
    {
      "cell_type": "markdown",
      "source": [
        "13.What is a property decorator in Python?\n",
        "\n",
        ">>The @property decorator in Python is used to turn a method into a “getter” for a class attribute. It allows you to access a method like an attribute without needing parentheses ().\n",
        "\n",
        "This helps in controlling access to attributes while keeping the syntax simple and clean.\n",
        "\n",
        "14. Why is polymorphism important in OOP\n",
        "\n",
        ">>i)Simplifies Code:\n",
        "You can write a single function or method that works with different types of objects, instead of writing separate functions for each type.\n",
        "\n",
        "ii)Improves Flexibility:\n",
        "Objects of different classes can be treated the same way, especially if they share a common parent class or interface.\n",
        "\n",
        "iii)Enhances Maintainability:\n",
        "You can add new classes or methods without changing existing code that uses polymorphism, making the system easier to maintain and expand.\n",
        "\n",
        "iv)Supports Code Reusability:\n",
        "Polymorphism lets you reuse code by designing functions that work with a general class type, and the specific behavior is determined by the actual object.\n",
        "\n",
        "15. What is an abstract class in Python?\n",
        "\n",
        ">>An abstract class is a special kind of class that cannot be instantiated directly.\n",
        "It is designed to be a blueprint for other classes. Abstract classes can contain one or more abstract methods that must be implemented by any child class.\n",
        "\n",
        "16.What are the advantages of OOP?\n",
        "\n",
        ">>1)Modularity\n",
        "Code is organized into separate objects (classes), making it easier to manage and understand.\n",
        "\n",
        "2)Reusability\n",
        "Classes and objects can be reused across different programs, reducing duplication of code.\n",
        "\n",
        "3)Encapsulation\n",
        "Data and methods are bundled together inside objects, protecting data from unauthorized access and misuse.\n",
        "\n",
        "4)Inheritance\n",
        "New classes can inherit properties and behaviors from existing classes, promoting code reuse and easier maintenance.\n",
        "\n",
        "5)Polymorphism\n",
        "Different objects can be treated through the same interface, allowing flexibility and the ability to extend functionality easily.\n",
        "\n",
        "6)Improved Maintainability\n",
        "Changes in one part of the code (class) have minimal impact on others, making it easier to update and maintain.\n",
        "\n",
        "7)Real-world Modeling\n",
        "OOP closely models real-world entities, making programs more intuitive and easier to design.\n",
        "\n",
        "17.What is the difference between a class variable and an instance variable?\n",
        "\n",
        ">>Class Variable:\n",
        "\n",
        "i)Shared by all instances of the class.\n",
        "\n",
        "ii)Defined inside the class but outside any method.\n",
        "\n",
        "iii)Accessed by class name or instance.\n",
        "\n",
        "iv)Used for common properties shared by all objects.\n",
        "\n",
        "Instance Variable:\n",
        "\n",
        "i)Unique to each object (instance) of the class.\n",
        "\n",
        "ii)Defined inside methods (usually in __init__) using self.\n",
        "\n",
        "iii)Accessed only by the instance.\n",
        "\n",
        "iv)Used for properties specific to each object.\n",
        "\n"
      ],
      "metadata": {
        "id": "62qlzp0N_uL9"
      }
    },
    {
      "cell_type": "markdown",
      "source": [
        "18.What is multiple inheritance in Python?\n",
        "\n",
        ">>Multiple inheritance means a class can inherit attributes and methods from more than one parent class.\n",
        "\n",
        "This lets a child class combine behaviors and properties from multiple classes.\n",
        "\n",
        "19.Explain the purpose of ‘’__str__’ and ‘__repr__’ ‘ methods in Python.\n",
        "\n",
        ">>1. __str__ Method\n",
        "Used to provide a friendly, readable string representation of an object.\n",
        "\n",
        "Called by the built-in str() function and when you use print() on an object.\n",
        "\n",
        "Meant for end-users.\n",
        "2. __repr__ Method\n",
        "Used to provide an official string representation of an object.\n",
        "\n",
        "Called by the built-in repr() function and when you inspect the object in the interpreter.\n",
        "\n",
        "Should be unambiguous and, if possible, match the code to recreate the object.\n",
        "\n",
        "Meant for developers/debugging.\n",
        "\n",
        "20. What is the significance of the ‘super()’ function in Python?\n",
        "\n",
        ">>The super() function in Python is used to call methods from a parent (super) class.\n",
        "It is especially useful in inheritance, when you want to extend or customize the behavior of a parent class method in a child class.\n",
        "\n",
        "21. What is the significance of the __del__ method in Python?\n",
        "\n",
        ">>The __del__ method in Python is a special (dunder) method called a destructor.\n",
        "It is automatically called when an object is about to be destroyed — usually when there are no more references to the object.\n",
        "\n",
        "22.What is the difference between @staticmethod and @classmethod in Python?\n",
        "\n",
        ">>Both @staticmethod and @classmethod are decorators used to define methods inside a class that are not regular instance methods, but they are used differently.\n",
        "\n",
        "1. @staticmethod\n",
        "Does NOT take self or cls as the first parameter.\n",
        "\n",
        "Doesn’t access or modify class or instance data.\n",
        "\n",
        "Acts like a regular function, but belongs to the class's namespace.\n",
        "Use when:\n",
        "You want a method that belongs to the class logically, but doesn't need to know anything about the class or object.\n",
        "Example:\n",
        "class Math:\n",
        "    @staticmethod\n",
        "    def add(a, b):\n",
        "        return a + b\n",
        "\n",
        "print(Math.add(3, 5))  # Output: 8\n",
        "2. @classmethod\n",
        "Takes cls as the first parameter, which refers to the class itself, not the instance.\n",
        "\n",
        "Can access or modify class variables.\n",
        "\n",
        "Works even when called on a subclass.\n",
        "Use when:\n",
        "You want to create or modify class-level behavior or return an instance of the class.\n",
        " Example:\n",
        "class Person:\n",
        "    count = 0\n",
        "\n",
        "    def __init__(self, name):\n",
        "        self.name = name\n",
        "        Person.count += 1\n",
        "\n",
        "    @classmethod\n",
        "    def total_persons(cls):\n",
        "        return cls.count\n",
        "\n",
        "print(Person.total_persons())  # Output: 0\n",
        "\n",
        "p1 = Person(\"Alice\")\n",
        "p2 = Person(\"Bob\")\n",
        "\n",
        "print(Person.total_persons())  # Output: 2\n",
        "\n",
        "23.How does polymorphism work in Python with inheritance?\n",
        "\n",
        ">>Polymorphism means “many forms” — it allows different classes to define methods with the same name but with different behaviors, and Python can call the appropriate method depending on the object’s class.\n",
        "\n",
        "When combined with inheritance, polymorphism lets you use a common interface (like a method name) in a parent class, and then override it in child classes.\n",
        "\n",
        "24. What is method chaining in Python OOP?\n",
        "\n",
        ">>Method chaining in Python refers to calling multiple methods on the same object in a single line, one after the other.\n",
        "It works when each method returns the object itself (self), allowing you to “chain” calls together.\n",
        "\n",
        "25.What is the purpose of the __call__ method in Python?\n",
        "\n",
        ">>The __call__ method in Python allows an object of a class to be called like a function.\n",
        "\n",
        "If a class defines the __call__ method, then you can use its instances as if they were functions, which can make your code more flexible and intuitive.\n",
        "\n"
      ],
      "metadata": {
        "id": "O9Pllaek_8MY"
      }
    },
    {
      "cell_type": "code",
      "source": [
        "#Create a parent class Animal with a method speak() that prints a generic message. Create a child class Dogthat overrides the speak() method to print \"Bark!\".\n",
        "class Animal:\n",
        "    def speak(self):\n",
        "        print(\"The animal makes a sound.\")\n",
        "\n",
        "class Dog(Animal):\n",
        "    def speak(self):\n",
        "        print(\"Bark!\")\n",
        "a = Animal()\n",
        "a.speak()\n",
        "\n",
        "d = Dog()\n",
        "d.speak()\n"
      ],
      "metadata": {
        "colab": {
          "base_uri": "https://localhost:8080/"
        },
        "id": "ROwaoYFi82mD",
        "outputId": "57914210-9c5e-4272-8c1d-c525ddce7202"
      },
      "execution_count": null,
      "outputs": [
        {
          "output_type": "stream",
          "name": "stdout",
          "text": [
            "The animal makes a sound.\n",
            "Bark!\n"
          ]
        }
      ]
    },
    {
      "cell_type": "code",
      "source": [
        "# Write a program to create an abstract class Shape with a method area(). Derive classes Circle and Rectangle from it and implement the area() method in both.\n",
        "class Shape:\n",
        "    def area(self):\n",
        "        pass\n",
        "class Circle(Shape):\n",
        "    def __init__(self, radius):\n",
        "        self.radius = radius\n",
        "\n",
        "    def area(self):\n",
        "        return 3.14 * self.radius * self.radius\n",
        "\n",
        "class Rectangle(Shape):\n",
        "    def __init__(self, width, height):\n",
        "        self.width = width\n",
        "        self.height = height\n",
        "\n",
        "    def area(self):\n",
        "        return self.width * self.height\n",
        "\n",
        "\n",
        "circle = Circle(5)\n",
        "print(\"Area of circle:\", circle.area())\n",
        "\n",
        "rectangle = Rectangle(4, 6)\n",
        "print(\"Area of rectangle:\", rectangle.area())"
      ],
      "metadata": {
        "id": "AjYQNomD-B37",
        "colab": {
          "base_uri": "https://localhost:8080/"
        },
        "outputId": "53b09395-8366-40d2-acb0-90b049d47892"
      },
      "execution_count": null,
      "outputs": [
        {
          "output_type": "stream",
          "name": "stdout",
          "text": [
            "Area of circle: 78.5\n",
            "Area of rectangle: 24\n"
          ]
        }
      ]
    },
    {
      "cell_type": "code",
      "source": [
        "# Implement a multi-level inheritance scenario where a class Vehicle has an attribute type. Derive a class Car and further derive a class ElectricCar that adds a battery attribute.\n",
        "class Vehicle:\n",
        "    def __init__(self, vehicle_type):\n",
        "        self.type = vehicle_type\n",
        "\n",
        "    def show_type(self):\n",
        "        print(\"Vehicle type:\", self.type)\n",
        "\n",
        "class Car(Vehicle):\n",
        "    def __init__(self, vehicle_type, brand):\n",
        "        super().__init__(vehicle_type)\n",
        "        self.brand = brand\n",
        "\n",
        "    def show_brand(self):\n",
        "        print(\"Car brand:\", self.brand)\n",
        "\n",
        "class ElectricCar(Car):\n",
        "    def __init__(self, vehicle_type, brand, battery):\n",
        "        super().__init__(vehicle_type, brand)\n",
        "        self.battery = battery\n",
        "\n",
        "    def show_battery(self):\n",
        "        print(\"Battery capacity:\", self.battery)\n",
        "\n",
        "e_car = ElectricCar(\"Four Wheeler\", \"Tesla\", \"75 kWh\")\n",
        "\n",
        "e_car.show_type()\n",
        "e_car.show_brand()\n",
        "e_car.show_battery()"
      ],
      "metadata": {
        "colab": {
          "base_uri": "https://localhost:8080/"
        },
        "id": "BgalJPoiMdZd",
        "outputId": "9ca122b8-f175-4246-affd-f3ba2369b837"
      },
      "execution_count": null,
      "outputs": [
        {
          "output_type": "stream",
          "name": "stdout",
          "text": [
            "Vehicle type: Four Wheeler\n",
            "Car brand: Tesla\n",
            "Battery capacity: 75 kWh\n"
          ]
        }
      ]
    },
    {
      "cell_type": "code",
      "source": [
        "#Demonstrate polymorphism by creating a base class Bird with a method fly(). Create two derived classes Sparrow and Penguin that override the fly() method.\n",
        "class Bird:\n",
        "    def fly(self):\n",
        "        print(\"Some birds can fly.\")\n",
        "\n",
        "class Sparrow(Bird):\n",
        "    def fly(self):\n",
        "        print(\"Sparrow flies high in the sky.\")\n",
        "\n",
        "class Penguin(Bird):\n",
        "    def fly(self):\n",
        "        print(\"Penguins cannot fly, they swim.\")\n",
        "\n",
        "def bird_fly(bird):\n",
        "    bird.fly()\n",
        "\n",
        "sparrow = Sparrow()\n",
        "penguin = Penguin()\n",
        "\n",
        "bird_fly(sparrow)\n",
        "bird_fly(penguin)"
      ],
      "metadata": {
        "colab": {
          "base_uri": "https://localhost:8080/"
        },
        "id": "PusCfuf3NFig",
        "outputId": "5c436216-61a7-4895-f55c-dcd5fa8041c2"
      },
      "execution_count": null,
      "outputs": [
        {
          "output_type": "stream",
          "name": "stdout",
          "text": [
            "Sparrow flies high in the sky.\n",
            "Penguins cannot fly, they swim.\n"
          ]
        }
      ]
    },
    {
      "cell_type": "code",
      "source": [
        "#Write a program to demonstrate encapsulation by creating a class BankAccount with private attributes balance and methods to deposit, withdraw, and check balance.\n",
        "class BankAccount:\n",
        "    def __init__(self, initial_balance=0):\n",
        "        self.__balance = initial_balance\n",
        "\n",
        "    def deposit(self, amount):\n",
        "        if amount > 0:\n",
        "            self.__balance += amount\n",
        "            print(f\"Deposited: {amount}\")\n",
        "        else:\n",
        "            print(\"Deposit amount must be positive.\")\n",
        "\n",
        "    def withdraw(self, amount):\n",
        "        if 0 < amount <= self.__balance:\n",
        "            self.__balance -= amount\n",
        "            print(f\"Withdrawn: {amount}\")\n",
        "        else:\n",
        "            print(\"Insufficient balance or invalid amount.\")\n",
        "\n",
        "    def check_balance(self):\n",
        "        print(f\"Current balance: {self.__balance}\")\n",
        "\n",
        "account = BankAccount(100)\n",
        "\n",
        "account.deposit(50)\n",
        "account.withdraw(30)\n",
        "account.check_balance()"
      ],
      "metadata": {
        "colab": {
          "base_uri": "https://localhost:8080/"
        },
        "id": "z-PDR0AbOfH2",
        "outputId": "67a1350c-1ce7-4920-9df0-0d1d3c4acdfc"
      },
      "execution_count": null,
      "outputs": [
        {
          "output_type": "stream",
          "name": "stdout",
          "text": [
            "Deposited: 50\n",
            "Withdrawn: 30\n",
            "Current balance: 120\n"
          ]
        }
      ]
    },
    {
      "cell_type": "code",
      "source": [
        "# Demonstrate runtime polymorphism using a method play() in a base class Instrument. Derive classes Guitar and Piano that implement their own version of play().\n",
        "class Instrument:\n",
        "    def play(self):\n",
        "        print(\"Playing an instrument.\")\n",
        "\n",
        "class Guitar(Instrument):\n",
        "    def play(self):\n",
        "        print(\"Strumming the guitar.\")\n",
        "\n",
        "class Piano(Instrument):\n",
        "    def play(self):\n",
        "        print(\"Playing the piano.\")\n",
        "\n",
        "def start_playing(instrument):\n",
        "    instrument.play()\n",
        "\n",
        "g = Guitar()\n",
        "p = Piano()\n",
        "\n",
        "start_playing(g)\n",
        "start_playing(p)"
      ],
      "metadata": {
        "colab": {
          "base_uri": "https://localhost:8080/"
        },
        "id": "y6HCDQSgO-0l",
        "outputId": "ecce450a-b4bd-4a4f-a214-98c1387f2522"
      },
      "execution_count": null,
      "outputs": [
        {
          "output_type": "stream",
          "name": "stdout",
          "text": [
            "Strumming the guitar.\n",
            "Playing the piano.\n"
          ]
        }
      ]
    },
    {
      "cell_type": "code",
      "source": [
        "# Create a class MathOperations with a class method add_numbers() to add two numbers and a static method subtract_numbers() to subtract two numbers.\n",
        "class MathOperations:\n",
        "    @classmethod\n",
        "    def add_numbers(cls, a, b):\n",
        "        return a + b\n",
        "\n",
        "    @staticmethod\n",
        "    def subtract_numbers(a, b):\n",
        "        return a - b\n",
        "\n",
        "sum_result = MathOperations.add_numbers(10, 5)\n",
        "print(\"Sum:\", sum_result)\n",
        "\n",
        "diff_result = MathOperations.subtract_numbers(10, 5)\n",
        "print(\"Difference:\", diff_result)"
      ],
      "metadata": {
        "colab": {
          "base_uri": "https://localhost:8080/"
        },
        "id": "NNiSzwuaPe9v",
        "outputId": "00298cb9-3dd7-4ba0-b2d7-9c09aad0ce5f"
      },
      "execution_count": null,
      "outputs": [
        {
          "output_type": "stream",
          "name": "stdout",
          "text": [
            "Sum: 15\n",
            "Difference: 5\n"
          ]
        }
      ]
    },
    {
      "cell_type": "code",
      "source": [
        "#Implement a class Person with a class method to count the total number of persons created.\n",
        "class Person:\n",
        "    count = 0\n",
        "\n",
        "    def __init__(self, name):\n",
        "        self.name = name\n",
        "        Person.count += 1\n",
        "\n",
        "    @classmethod\n",
        "    def total_persons(cls):\n",
        "        print(\"Total persons created:\", cls.count)\n",
        "\n",
        "p1 = Person(\"Alice\")\n",
        "p2 = Person(\"Bob\")\n",
        "p3 = Person(\"Charlie\")\n",
        "\n",
        "Person.total_persons()\n",
        "\n"
      ],
      "metadata": {
        "colab": {
          "base_uri": "https://localhost:8080/"
        },
        "id": "Dhdn1KZKTgR6",
        "outputId": "e7d4713d-ab25-435d-8e1b-3842d78aee61"
      },
      "execution_count": null,
      "outputs": [
        {
          "output_type": "stream",
          "name": "stdout",
          "text": [
            "Total persons created: 3\n"
          ]
        }
      ]
    },
    {
      "cell_type": "code",
      "source": [
        "#Write a class Fraction with attributes numerator and denominator. Override the str method to display the fraction as \"numerator/denominator\".\n",
        "class Fraction:\n",
        "    def __init__(self, numerator, denominator):\n",
        "        self.numerator = numerator\n",
        "        self.denominator = denominator\n",
        "\n",
        "    def __str__(self):\n",
        "        return f\"{self.numerator}/{self.denominator}\"\n",
        "\n",
        "f1 = Fraction(3, 4)\n",
        "f2 = Fraction(5, 8)\n",
        "\n",
        "print(f1)\n",
        "print(f2)"
      ],
      "metadata": {
        "id": "e-dJoL4VT_Y8",
        "colab": {
          "base_uri": "https://localhost:8080/"
        },
        "outputId": "a0aabe5e-2658-4671-81f5-3a9300a73073"
      },
      "execution_count": 1,
      "outputs": [
        {
          "output_type": "stream",
          "name": "stdout",
          "text": [
            "3/4\n",
            "5/8\n"
          ]
        }
      ]
    },
    {
      "cell_type": "code",
      "source": [
        "# Demonstrate operator overloading by creating a class Vector and overriding the add method to add two vectors.\n",
        "class Vector:\n",
        "    def __init__(self, x, y):\n",
        "        self.x = x\n",
        "        self.y = y\n",
        "\n",
        "    def __add__(self, other):\n",
        "        return Vector(self.x + other.x, self.y + other.y)\n",
        "\n",
        "    def __str__(self):\n",
        "        return f\"({self.x}, {self.y})\"\n",
        "\n",
        "v1 = Vector(2, 3)\n",
        "v2 = Vector(4, 5)\n",
        "\n",
        "v3 = v1 + v2\n",
        "\n",
        "print(\"Vector 1:\", v1)\n",
        "print(\"Vector 2:\", v2)\n",
        "print(\"Sum:\", v3)"
      ],
      "metadata": {
        "colab": {
          "base_uri": "https://localhost:8080/"
        },
        "id": "0iFIkXOkCOXG",
        "outputId": "318aefb9-eba4-470c-c669-6bfd8021d285"
      },
      "execution_count": 2,
      "outputs": [
        {
          "output_type": "stream",
          "name": "stdout",
          "text": [
            "Vector 1: (2, 3)\n",
            "Vector 2: (4, 5)\n",
            "Sum: (6, 8)\n"
          ]
        }
      ]
    },
    {
      "cell_type": "code",
      "source": [
        "# Create a class Person with attributes name and age. Add a method greet() that prints \"Hello, my name is {name} and I am {age} years old.\"\n",
        "class Person:\n",
        "    def __init__(self, name, age):\n",
        "        self.name = name\n",
        "        self.age = age\n",
        "\n",
        "    def greet(self):\n",
        "        print(f\"Hello, my name is {self.name} and I am {self.age} years old.\")\n",
        "\n",
        "p1 = Person(\"Alice\", 25)\n",
        "\n",
        "p1.greet()"
      ],
      "metadata": {
        "colab": {
          "base_uri": "https://localhost:8080/"
        },
        "id": "iROBt3RCC4rn",
        "outputId": "16855284-2ecd-45b6-eeaf-b94b80f7fc6e"
      },
      "execution_count": 3,
      "outputs": [
        {
          "output_type": "stream",
          "name": "stdout",
          "text": [
            "Hello, my name is Alice and I am 25 years old.\n"
          ]
        }
      ]
    },
    {
      "cell_type": "code",
      "source": [
        "# Implement a class Student with attributes name and grades. Create a method average_grade() to compute the average of the grades.\n",
        "class Student:\n",
        "    def __init__(self, name, grades):\n",
        "        self.name = name\n",
        "        self.grades = grades\n",
        "\n",
        "    def average_grade(self):\n",
        "        if self.grades:\n",
        "            return sum(self.grades) / len(self.grades)\n",
        "        else:\n",
        "            return 0\n",
        "\n",
        "s1 = Student(\"John\", [85, 90, 78, 92])\n",
        "\n",
        "print(f\"{s1.name}'s average grade is: {s1.average_grade():.2f}\")"
      ],
      "metadata": {
        "colab": {
          "base_uri": "https://localhost:8080/"
        },
        "id": "fVyQI4edDQXN",
        "outputId": "8cf6467f-b2a0-471d-e905-ddcc8cc1a78a"
      },
      "execution_count": 4,
      "outputs": [
        {
          "output_type": "stream",
          "name": "stdout",
          "text": [
            "John's average grade is: 86.25\n"
          ]
        }
      ]
    },
    {
      "cell_type": "code",
      "source": [
        "# Create a class Rectangle with methods set_dimensions() to set the dimensions and area() to calculate the area.\n",
        "class Rectangle:\n",
        "    def __init__(self):\n",
        "        self.length = 0\n",
        "        self.width = 0\n",
        "\n",
        "    def set_dimensions(self, length, width):\n",
        "        self.length = length\n",
        "        self.width = width\n",
        "\n",
        "    def area(self):\n",
        "        return self.length * self.width\n",
        "\n",
        "rect = Rectangle()\n",
        "\n",
        "rect.set_dimensions(5, 3)\n",
        "\n",
        "print(\"Area of rectangle:\", rect.area())"
      ],
      "metadata": {
        "colab": {
          "base_uri": "https://localhost:8080/"
        },
        "id": "TrqJp7F1Dnty",
        "outputId": "78cc32c4-50fd-45f3-a8a0-315590fc41e1"
      },
      "execution_count": 5,
      "outputs": [
        {
          "output_type": "stream",
          "name": "stdout",
          "text": [
            "Area of rectangle: 15\n"
          ]
        }
      ]
    },
    {
      "cell_type": "code",
      "source": [
        "# Create a class Employee with a method calculate_salary() that computes the salary based on hours worked and hourly rate. Create a derived class Manager that adds a bonus to the salary.\n",
        "class Employee:\n",
        "    def __init__(self, hours_worked, hourly_rate):\n",
        "        self.hours_worked = hours_worked\n",
        "        self.hourly_rate = hourly_rate\n",
        "\n",
        "    def calculate_salary(self):\n",
        "        return self.hours_worked * self.hourly_rate\n",
        "\n",
        "class Manager(Employee):\n",
        "    def __init__(self, hours_worked, hourly_rate, bonus):\n",
        "        super().__init__(hours_worked, hourly_rate)\n",
        "        self.bonus = bonus\n",
        "\n",
        "    def calculate_salary(self):\n",
        "        base_salary = super().calculate_salary()\n",
        "        return base_salary + self.bonus\n",
        "\n",
        "emp = Employee(40, 20)\n",
        "print(\"Employee Salary:\", emp.calculate_salary())\n",
        "\n",
        "mgr = Manager(40, 20, 300)\n",
        "print(\"Manager Salary:\", mgr.calculate_salary())"
      ],
      "metadata": {
        "colab": {
          "base_uri": "https://localhost:8080/"
        },
        "id": "hgnLqIyOELcP",
        "outputId": "53560e5a-9423-4b3a-90bb-fc1988512ed8"
      },
      "execution_count": 6,
      "outputs": [
        {
          "output_type": "stream",
          "name": "stdout",
          "text": [
            "Employee Salary: 800\n",
            "Manager Salary: 1100\n"
          ]
        }
      ]
    },
    {
      "cell_type": "code",
      "source": [
        "#Create a class Product with attributes name, price, and quantity. Implement a method total_price() that calculates the total price of the product.\n",
        "class Product:\n",
        "    def __init__(self, name, price, quantity):\n",
        "        self.name = name\n",
        "        self.price = price\n",
        "        self.quantity = quantity\n",
        "\n",
        "    def total_price(self):\n",
        "        return self.price * self.quantity\n",
        "\n",
        "product1 = Product(\"Laptop\", 50000, 2)\n",
        "\n",
        "print(f\"Total price for {product1.name}s: ₹{product1.total_price()}\")\n",
        "\n"
      ],
      "metadata": {
        "colab": {
          "base_uri": "https://localhost:8080/"
        },
        "id": "4QbjlDrkEmRW",
        "outputId": "a9e25a17-4037-4784-a980-6d4411c01f1e"
      },
      "execution_count": 7,
      "outputs": [
        {
          "output_type": "stream",
          "name": "stdout",
          "text": [
            "Total price for Laptops: ₹100000\n"
          ]
        }
      ]
    },
    {
      "cell_type": "code",
      "source": [
        "# Create a class Animal with an abstract method sound(). Create two derived classes Cow and Sheep that implement the sound() method.\n",
        "from abc import ABC, abstractmethod\n",
        "\n",
        "class Animal(ABC):\n",
        "    @abstractmethod\n",
        "    def sound(self):\n",
        "        pass\n",
        "\n",
        "class Cow(Animal):\n",
        "    def sound(self):\n",
        "        print(\"Cow says Moo!\")\n",
        "\n",
        "class Sheep(Animal):\n",
        "    def sound(self):\n",
        "        print(\"Sheep says Baa!\")\n",
        "\n",
        "cow = Cow()\n",
        "sheep = Sheep()\n",
        "\n",
        "cow.sound()\n",
        "sheep.sound()"
      ],
      "metadata": {
        "colab": {
          "base_uri": "https://localhost:8080/"
        },
        "id": "pXToT2lPE43V",
        "outputId": "f6aa06b3-548f-45da-f923-59ff39781850"
      },
      "execution_count": 8,
      "outputs": [
        {
          "output_type": "stream",
          "name": "stdout",
          "text": [
            "Cow says Moo!\n",
            "Sheep says Baa!\n"
          ]
        }
      ]
    },
    {
      "cell_type": "code",
      "source": [
        "#. Create a class Book with attributes title, author, and year_published. Add a method get_book_info() that returns a formatted string with the book's details.\n",
        "class Book:\n",
        "    def __init__(self, title, author, year_published):\n",
        "        self.title = title\n",
        "        self.author = author\n",
        "        self.year_published = year_published\n",
        "\n",
        "    def get_book_info(self):\n",
        "        return f\"'{self.title}' by {self.author} (Published in {self.year_published})\"\n",
        "\n",
        "book1 = Book(\"To Kill a Mockingbird\", \"Harper Lee\", 1960)\n",
        "\n",
        "print(book1.get_book_info())"
      ],
      "metadata": {
        "colab": {
          "base_uri": "https://localhost:8080/"
        },
        "id": "vk2ntZmrF3Ak",
        "outputId": "b5cdaf59-6922-4bb2-bd16-ee64b76173d6"
      },
      "execution_count": 9,
      "outputs": [
        {
          "output_type": "stream",
          "name": "stdout",
          "text": [
            "'To Kill a Mockingbird' by Harper Lee (Published in 1960)\n"
          ]
        }
      ]
    },
    {
      "cell_type": "code",
      "source": [
        "# Create a class House with attributes address and price. Create a derived class Mansion that adds an attribute number_of_rooms.\n",
        "class House:\n",
        "    def __init__(self, address, price):\n",
        "        self.address = address\n",
        "        self.price = price\n",
        "\n",
        "    def display_info(self):\n",
        "        return f\"Address: {self.address}, Price: ₹{self.price}\"\n",
        "\n",
        "class Mansion(House):\n",
        "    def __init__(self, address, price, number_of_rooms):\n",
        "        super().__init__(address, price)\n",
        "        self.number_of_rooms = number_of_rooms\n",
        "\n",
        "    def display_info(self):\n",
        "        base_info = super().display_info()\n",
        "        return f\"{base_info}, Rooms: {self.number_of_rooms}\"\n",
        "\n",
        "m1 = Mansion(\"123 Luxury Lane\", 50000000, 10)\n",
        "\n",
        "print(m1.display_info())"
      ],
      "metadata": {
        "colab": {
          "base_uri": "https://localhost:8080/"
        },
        "id": "UY99NjRGGZnt",
        "outputId": "e1f45742-9656-4700-8948-bcc6ba0e8c21"
      },
      "execution_count": 10,
      "outputs": [
        {
          "output_type": "stream",
          "name": "stdout",
          "text": [
            "Address: 123 Luxury Lane, Price: ₹50000000, Rooms: 10\n"
          ]
        }
      ]
    }
  ]
}